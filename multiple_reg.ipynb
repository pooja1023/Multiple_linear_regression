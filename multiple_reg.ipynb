{
 "cells": [
  {
   "cell_type": "code",
   "execution_count": 1,
   "metadata": {
    "collapsed": true
   },
   "outputs": [],
   "source": [
    "from numpy import *\n",
    "import matplotlib.pyplot as plt\n",
    "import matplotlib.image as mpimg\n",
    "class values:\n",
    "    f_b0=0\n",
    "    f_b1=0\n",
    "    f_b2=0\n",
    "    f_b3=0\n"
   ]
  },
  {
   "cell_type": "code",
   "execution_count": 2,
   "metadata": {
    "collapsed": true
   },
   "outputs": [],
   "source": [
    "#Calculation the error (sse)\n",
    "def error(b0,b1,b2,b3,points):\n",
    "    totalError=0\n",
    "    for i in range(1,len(points)-1):\n",
    "        x1=points[i,9]\n",
    "        x2=points[i,6]\n",
    "        x3=points[i,7]\n",
    "        #x4=points[i,8]\n",
    "        #x1=points[i,1]\n",
    "        y=points[i,0]\n",
    "        totalError+=(y-(b0+b1*x1+b2*x2+b3*x3))**2\n",
    "    return totalError/float(len(points)-1)\n"
   ]
  },
  {
   "cell_type": "code",
   "execution_count": 3,
   "metadata": {
    "collapsed": true
   },
   "outputs": [],
   "source": [
    "#calcuating gradient\n",
    "def step_gradient(c_b0,c_b1,c_b2,c_b3,points,learningRate):\n",
    "    g_b0=0\n",
    "    g_b1=0\n",
    "    g_b2=0\n",
    "    g_b3=0\n",
    "    N=float(len(points)-1)\n",
    "    for i in range(1,len(points)-1):\n",
    "        x1=points[i,9]\n",
    "        x2=points[i,6]\n",
    "        x3=points[i,7]\n",
    "        #x4=points[i,8]\n",
    "        #x1=points[i,1]\n",
    "        y=points[i,0]\n",
    "        g_b0+=-(2/N)*(y-(c_b0+c_b1*x1+c_b2*x2+c_b3+x3))\n",
    "        g_b1+=-(2/N)*x1*(y-(c_b0+c_b1*x1+c_b2*x2+c_b3+x3))\n",
    "        g_b2+=-(2/N)*x2*(y-(c_b0+c_b1*x1+c_b2*x2+c_b3+x3))\n",
    "        g_b3+=-(2/N)*x3*(y-(c_b0+c_b1*x1+c_b2*x2+c_b3+x3))\n",
    "    new_b0=c_b0-(learningRate*g_b0)\n",
    "    new_b1=c_b1-(learningRate*g_b1)\n",
    "    new_b2=c_b2-(learningRate*g_b2)\n",
    "    new_b3=c_b3-(learningRate*g_b3)\n",
    "    return [new_b0,new_b1,new_b2,new_b3]\n"
   ]
  },
  {
   "cell_type": "code",
   "execution_count": 4,
   "metadata": {
    "collapsed": true
   },
   "outputs": [],
   "source": [
    "def gradient(points,s_b0,s_b1,s_b2,s_b3,learning_rate,num_iterations):\n",
    "    b0=s_b0\n",
    "    b1=s_b1\n",
    "    b2=s_b2\n",
    "    b3=s_b3\n",
    "    for i in range(num_iterations):\n",
    "        print(\"At iteration\",i,\"Error is:\",error(b0,b1,b2,b3,points))\n",
    "        [b0,b1,b2,b3]=step_gradient(b0,b1,b2,b3,array(points),learning_rate)\n",
    "    return [b0,b1,b2,b3]\n"
   ]
  },
  {
   "cell_type": "code",
   "execution_count": 5,
   "metadata": {
    "collapsed": true
   },
   "outputs": [],
   "source": [
    "#Fitting a Linear Regression Model\n",
    "def linearregression():\n",
    "    try: \n",
    "        points=genfromtxt('cars.csv',delimiter=\",\")\n",
    "        #hyperparameters\n",
    "        learning_rate=0.0000001\n",
    "        i_b0=0\n",
    "        i_b1=0\n",
    "        i_b2=0\n",
    "        i_b3=0\n",
    "        num_iterations=100\n",
    "        [values.f_b0,values.f_b1,values.f_b2,values.f_b3]=gradient(points,i_b0,i_b1,i_b2,i_b3,learning_rate,num_iterations)\n",
    "    except:\n",
    "        print(e)"
   ]
  },
  {
   "cell_type": "code",
   "execution_count": 6,
   "metadata": {
    "collapsed": false
   },
   "outputs": [
    {
     "name": "stdout",
     "output_type": "stream",
     "text": [
      "At iteration 0 Error is: 575007713.271\n",
      "At iteration 1 Error is: 574997833.058\n",
      "At iteration 2 Error is: 574987953.015\n",
      "At iteration 3 Error is: 574978073.141\n",
      "At iteration 4 Error is: 574968193.437\n",
      "At iteration 5 Error is: 574958313.903\n",
      "At iteration 6 Error is: 574948434.538\n",
      "At iteration 7 Error is: 574938555.342\n",
      "At iteration 8 Error is: 574928676.316\n",
      "At iteration 9 Error is: 574918797.46\n",
      "At iteration 10 Error is: 574908918.773\n",
      "At iteration 11 Error is: 574899040.255\n",
      "At iteration 12 Error is: 574889161.907\n",
      "At iteration 13 Error is: 574879283.729\n",
      "At iteration 14 Error is: 574869405.72\n",
      "At iteration 15 Error is: 574859527.88\n",
      "At iteration 16 Error is: 574849650.21\n",
      "At iteration 17 Error is: 574839772.71\n",
      "At iteration 18 Error is: 574829895.379\n",
      "At iteration 19 Error is: 574820018.218\n",
      "At iteration 20 Error is: 574810141.226\n",
      "At iteration 21 Error is: 574800264.403\n",
      "At iteration 22 Error is: 574790387.75\n",
      "At iteration 23 Error is: 574780511.267\n",
      "At iteration 24 Error is: 574770634.953\n",
      "At iteration 25 Error is: 574760758.808\n",
      "At iteration 26 Error is: 574750882.833\n",
      "At iteration 27 Error is: 574741007.028\n",
      "At iteration 28 Error is: 574731131.391\n",
      "At iteration 29 Error is: 574721255.925\n",
      "At iteration 30 Error is: 574711380.628\n",
      "At iteration 31 Error is: 574701505.5\n",
      "At iteration 32 Error is: 574691630.542\n",
      "At iteration 33 Error is: 574681755.753\n",
      "At iteration 34 Error is: 574671881.133\n",
      "At iteration 35 Error is: 574662006.683\n",
      "At iteration 36 Error is: 574652132.403\n",
      "At iteration 37 Error is: 574642258.292\n",
      "At iteration 38 Error is: 574632384.35\n",
      "At iteration 39 Error is: 574622510.578\n",
      "At iteration 40 Error is: 574612636.975\n",
      "At iteration 41 Error is: 574602763.542\n",
      "At iteration 42 Error is: 574592890.278\n",
      "At iteration 43 Error is: 574583017.184\n",
      "At iteration 44 Error is: 574573144.259\n",
      "At iteration 45 Error is: 574563271.503\n",
      "At iteration 46 Error is: 574553398.917\n",
      "At iteration 47 Error is: 574543526.5\n",
      "At iteration 48 Error is: 574533654.253\n",
      "At iteration 49 Error is: 574523782.175\n",
      "At iteration 50 Error is: 574513910.266\n",
      "At iteration 51 Error is: 574504038.527\n",
      "At iteration 52 Error is: 574494166.958\n",
      "At iteration 53 Error is: 574484295.557\n",
      "At iteration 54 Error is: 574474424.326\n",
      "At iteration 55 Error is: 574464553.265\n",
      "At iteration 56 Error is: 574454682.373\n",
      "At iteration 57 Error is: 574444811.65\n",
      "At iteration 58 Error is: 574434941.097\n",
      "At iteration 59 Error is: 574425070.713\n",
      "At iteration 60 Error is: 574415200.498\n",
      "At iteration 61 Error is: 574405330.453\n",
      "At iteration 62 Error is: 574395460.577\n",
      "At iteration 63 Error is: 574385590.871\n",
      "At iteration 64 Error is: 574375721.333\n",
      "At iteration 65 Error is: 574365851.966\n",
      "At iteration 66 Error is: 574355982.767\n",
      "At iteration 67 Error is: 574346113.738\n",
      "At iteration 68 Error is: 574336244.879\n",
      "At iteration 69 Error is: 574326376.188\n",
      "At iteration 70 Error is: 574316507.667\n",
      "At iteration 71 Error is: 574306639.316\n",
      "At iteration 72 Error is: 574296771.134\n",
      "At iteration 73 Error is: 574286903.121\n",
      "At iteration 74 Error is: 574277035.277\n",
      "At iteration 75 Error is: 574267167.603\n",
      "At iteration 76 Error is: 574257300.098\n",
      "At iteration 77 Error is: 574247432.762\n",
      "At iteration 78 Error is: 574237565.596\n",
      "At iteration 79 Error is: 574227698.599\n",
      "At iteration 80 Error is: 574217831.772\n",
      "At iteration 81 Error is: 574207965.113\n",
      "At iteration 82 Error is: 574198098.625\n",
      "At iteration 83 Error is: 574188232.305\n",
      "At iteration 84 Error is: 574178366.155\n",
      "At iteration 85 Error is: 574168500.174\n",
      "At iteration 86 Error is: 574158634.362\n",
      "At iteration 87 Error is: 574148768.72\n",
      "At iteration 88 Error is: 574138903.247\n",
      "At iteration 89 Error is: 574129037.943\n",
      "At iteration 90 Error is: 574119172.808\n",
      "At iteration 91 Error is: 574109307.843\n",
      "At iteration 92 Error is: 574099443.047\n",
      "At iteration 93 Error is: 574089578.421\n",
      "At iteration 94 Error is: 574079713.963\n",
      "At iteration 95 Error is: 574069849.675\n",
      "At iteration 96 Error is: 574059985.557\n",
      "At iteration 97 Error is: 574050121.607\n",
      "At iteration 98 Error is: 574040257.827\n",
      "At iteration 99 Error is: 574030394.216\n"
     ]
    }
   ],
   "source": [
    "linearregression()"
   ]
  },
  {
   "cell_type": "code",
   "execution_count": 7,
   "metadata": {
    "collapsed": false
   },
   "outputs": [
    {
     "data": {
      "image/png": "[encoded data removed]",
      "text/plain": [
       "<matplotlib.figure.Figure at 0x234fff13128>"
      ]
     },
     "metadata": {},
     "output_type": "display_data"
    }
   ],
   "source": [
    "import numpy\n",
    "#print(\"Final bias is: \",values.final_b)\n",
    "#print(\"Final slope is: \",values.final_m)\n",
    "y_pred=[]\n",
    "y_true=[]\n",
    "x1_val=[]\n",
    "x2_val=[]\n",
    "x3_val=[]\n",
    "# Calculate Predicted Values\n",
    "points=genfromtxt('cars.csv',delimiter=\",\")\n",
    "for i in range(1,len(points)):\n",
    "    x1=points[i,9]\n",
    "    x2=points[i,6]\n",
    "    x3=points[i,7]\n",
    "    x1_val.append(points[i,9])\n",
    "    x2_val.append(points[i,6])\n",
    "    x3_val.append(points[i,7])\n",
    "    y_pred.append(values.f_b0+values.f_b1*x1+values.f_b2*x2+values.f_b3*x3)\n",
    "    y_true.append(points[i,0])\n",
    "plt.subplot(2,1,1)\n",
    "plt.plot(numpy.array(x1_val),numpy.array(x2_val),numpy.array(x3_val),numpy.array(y_pred),color=\"blue\")\n",
    "plt.xlabel('Id')\n",
    "plt.ylabel('Predicted')\n",
    "plt.subplot(2,1,2)\n",
    "plt.xlabel('Id')\n",
    "plt.ylabel('Actual')\n",
    "plt.plot(numpy.array(x1_val),numpy.array(x2_val),numpy.array(x3_val),numpy.array(y_true),color=\"orange\")\n",
    "plt.tight_layout()\n",
    "plt.show()"
   ]
  },
  {
   "cell_type": "code",
   "execution_count": null,
   "metadata": {
    "collapsed": true
   },
   "outputs": [],
   "source": []
  }
 ],
 "metadata": {
  "kernelspec": {
   "display_name": "Python 3",
   "language": "python",
   "name": "python3"
  },
  "language_info": {
   "codemirror_mode": {
    "name": "ipython",
    "version": 3
   },
   "file_extension": ".py",
   "mimetype": "text/x-python",
   "name": "python",
   "nbconvert_exporter": "python",
   "pygments_lexer": "ipython3",
   "version": "3.6.0"
  }
 },
 "nbformat": 4,
 "nbformat_minor": 2
}
